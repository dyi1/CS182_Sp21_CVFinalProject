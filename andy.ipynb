{
 "cells": [
  {
   "cell_type": "code",
   "execution_count": 1,
   "metadata": {},
   "outputs": [],
   "source": [
    "import torch\n",
    "import torchvision\n",
    "import torchvision.transforms as transforms\n",
    "import torch.nn.functional as F\n",
    "from torch import nn\n",
    "import numpy as np \n",
    "import matplotlib.pyplot as plt\n",
    "import torchvision.models as models\n",
    "import pathlib\n",
    "import os\n",
    "import tqdm\n",
    "from IPython.display import display\n",
    "\n",
    "from model import ValFolder"
   ]
  },
  {
   "cell_type": "code",
   "execution_count": 2,
   "metadata": {},
   "outputs": [
    {
     "data": {
      "text/plain": [
       "device(type='cuda', index=0)"
      ]
     },
     "execution_count": 2,
     "metadata": {},
     "output_type": "execute_result"
    }
   ],
   "source": [
    "device = torch.device(\"cuda:0\" if torch.cuda.is_available() else \"cpu\")\n",
    "device"
   ]
  },
  {
   "cell_type": "code",
   "execution_count": 94,
   "metadata": {},
   "outputs": [
    {
     "name": "stdout",
     "output_type": "stream",
     "text": [
      "Discovered 120000 images\n"
     ]
    }
   ],
   "source": [
    "data_dir = pathlib.Path('./data/tiny-imagenet-200')\n",
    "image_count = len(list(data_dir.glob('**/*.JPEG')))\n",
    "CLASS_NAMES = np.array([item.name for item in (data_dir / 'train').glob('*')])\n",
    "print('Discovered {} images'.format(image_count))"
   ]
  },
  {
   "cell_type": "code",
   "execution_count": 97,
   "metadata": {},
   "outputs": [],
   "source": [
    "model = models.resnet18(pretrained=True)\n",
    "for param in model.parameters():\n",
    "    param.requires_grad = False\n",
    "model.fc = nn.Sequential(\n",
    "    model.fc,\n",
    "    nn.ReLU(inplace=True),\n",
    "    nn.Linear(1000, 200)\n",
    ")"
   ]
  },
  {
   "cell_type": "code",
   "execution_count": 98,
   "metadata": {},
   "outputs": [],
   "source": [
    "# Create the training data generator\n",
    "batch_size = 128\n",
    "\n",
    "data_transforms = transforms.Compose([\n",
    "    transforms.Resize((224, 224)), \n",
    "    transforms.ToTensor(),\n",
    "    transforms.Normalize((0.4805, 0.4483, 0.3978), (0.2177, 0.2138, 0.2136))\n",
    "])\n",
    "\n",
    "augment_transforms = transforms.Compose([\n",
    "    transforms.RandomHorizontalFlip(0.5),\n",
    "    transforms.RandomVerticalFlip(0.5),\n",
    "    transforms.RandomGrayscale(0.1),\n",
    "    transforms.ColorJitter(brightness=0.2, contrast=0.2, saturation=0.2, hue=0.2),\n",
    "    transforms.Pad(5, padding_mode='reflect'),\n",
    "    transforms.RandomRotation(15),\n",
    "    transforms.RandomPerspective(distortion_scale=0.3, p=0.3),\n",
    "    transforms.RandomCrop(64),\n",
    "    transforms.Resize((224, 224)),\n",
    "    transforms.ToTensor(),\n",
    "    transforms.Normalize((0.4805, 0.4483, 0.3978), (0.2177, 0.2138, 0.2136))\n",
    "])\n",
    "original_set = torchvision.datasets.ImageFolder(data_dir / 'train', data_transforms)\n",
    "augmented_set = torchvision.datasets.ImageFolder(data_dir / 'train', augment_transforms)\n",
    "train_set = torch.utils.data.ConcatDataset([original_set, augmented_set])\n",
    "train_loader = torch.utils.data.DataLoader(train_set, batch_size=batch_size,\n",
    "                                           shuffle=True, num_workers=4, pin_memory=True)\n",
    "    \n",
    "\n",
    "val_set = ValFolder(CLASS_NAMES, data_dir / 'val', data_transforms)\n",
    "val_set.__getitem__(1)\n",
    "val_loader = torch.utils.data.DataLoader(val_set, batch_size=batch_size,\n",
    "                                         shuffle=True, num_workers=4, pin_memory=True)"
   ]
  },
  {
   "cell_type": "code",
   "execution_count": 84,
   "metadata": {},
   "outputs": [],
   "source": [
    "# for i in range(10):\n",
    "#     im = transforms.ToPILImage()(train_set.__getitem__(i)[0]).convert(\"RGB\")\n",
    "#     display(im)"
   ]
  },
  {
   "cell_type": "code",
   "execution_count": 85,
   "metadata": {},
   "outputs": [],
   "source": [
    "# mean = 0\n",
    "# std = 0\n",
    "\n",
    "# for images, _ in train_loader:\n",
    "#     batch_samples = images.size(0) # batch size (the last batch can have smaller size!)\n",
    "#     images = images.view(batch_samples, images.size(1), -1)\n",
    "#     mean += images.mean(2).sum(0)\n",
    "#     std += images.std(2).sum(0)\n",
    "    \n",
    "# mean /= len(train_loader.dataset)\n",
    "# std /= len(train_loader.dataset)\n",
    "# print(mean, std)"
   ]
  },
  {
   "cell_type": "code",
   "execution_count": 102,
   "metadata": {},
   "outputs": [],
   "source": [
    "for param in model.parameters():\n",
    "    param.requires_grad = True"
   ]
  },
  {
   "cell_type": "code",
   "execution_count": null,
   "metadata": {},
   "outputs": [
    {
     "name": "stdout",
     "output_type": "stream",
     "text": [
      "training 0.00%: 0.680. Loss: 1.2145490646362305\n",
      "training 0.64%: 0.704. Loss: 0.9909160733222961\n",
      "training 1.28%: 0.682. Loss: 1.2925530672073364\n",
      "training 1.92%: 0.679. Loss: 1.3406039476394653\n",
      "training 2.56%: 0.675. Loss: 1.2782889604568481\n",
      "training 3.20%: 0.673. Loss: 1.0538113117218018\n",
      "training 3.84%: 0.676. Loss: 1.056845784187317\n",
      "training 4.48%: 0.678. Loss: 1.0031429529190063\n",
      "training 5.12%: 0.679. Loss: 1.0989044904708862\n",
      "training 5.76%: 0.679. Loss: 1.2831650972366333\n",
      "training 6.40%: 0.680. Loss: 1.3490936756134033\n",
      "training 7.04%: 0.680. Loss: 1.2137974500656128\n",
      "training 7.68%: 0.679. Loss: 1.5067211389541626\n",
      "training 8.32%: 0.679. Loss: 1.3348450660705566\n",
      "training 8.96%: 0.678. Loss: 1.3114489316940308\n",
      "training 9.60%: 0.677. Loss: 1.6009076833724976\n",
      "training 10.24%: 0.677. Loss: 1.2770167589187622\n",
      "training 10.88%: 0.677. Loss: 1.3261774778366089\n",
      "training 11.52%: 0.677. Loss: 1.269918441772461\n",
      "training 12.16%: 0.675. Loss: 1.2551445960998535\n",
      "training 12.80%: 0.675. Loss: 1.1859253644943237\n",
      "training 13.44%: 0.675. Loss: 1.2017416954040527\n",
      "training 14.08%: 0.674. Loss: 1.1877813339233398\n",
      "training 14.72%: 0.673. Loss: 1.115070104598999\n",
      "training 15.36%: 0.672. Loss: 1.1993929147720337\n",
      "training 15.99%: 0.671. Loss: 1.0587679147720337\n",
      "training 16.63%: 0.671. Loss: 1.5945329666137695\n",
      "training 17.27%: 0.670. Loss: 1.1522879600524902\n",
      "training 17.91%: 0.670. Loss: 1.1517072916030884\n",
      "training 18.55%: 0.670. Loss: 1.3978217840194702\n",
      "training 19.19%: 0.669. Loss: 1.2495449781417847\n",
      "training 19.83%: 0.669. Loss: 1.3608994483947754\n",
      "training 20.47%: 0.669. Loss: 1.4693914651870728\n",
      "training 21.11%: 0.669. Loss: 1.1728805303573608\n",
      "training 21.75%: 0.669. Loss: 1.3220103979110718\n",
      "training 22.39%: 0.668. Loss: 1.3126860857009888\n",
      "training 23.03%: 0.668. Loss: 1.3699491024017334\n",
      "training 23.67%: 0.667. Loss: 1.2363027334213257\n",
      "training 24.31%: 0.667. Loss: 1.0828914642333984\n",
      "training 24.95%: 0.667. Loss: 1.4115948677062988\n",
      "training 25.59%: 0.667. Loss: 1.2127889394760132\n",
      "training 26.23%: 0.667. Loss: 1.3664040565490723\n",
      "training 26.87%: 0.666. Loss: 1.1770522594451904\n",
      "training 27.51%: 0.666. Loss: 1.0523442029953003\n",
      "training 28.15%: 0.665. Loss: 1.3027479648590088\n",
      "training 28.79%: 0.665. Loss: 1.1576178073883057\n",
      "training 29.43%: 0.665. Loss: 1.042858600616455\n",
      "training 30.07%: 0.665. Loss: 1.4363504648208618\n",
      "training 30.71%: 0.665. Loss: 1.4788644313812256\n",
      "training 31.35%: 0.664. Loss: 1.2857106924057007\n",
      "training 31.99%: 0.664. Loss: 1.5108904838562012\n",
      "training 32.63%: 0.664. Loss: 1.3751941919326782\n",
      "training 33.27%: 0.664. Loss: 1.3306118249893188\n",
      "training 33.91%: 0.664. Loss: 1.4921640157699585\n",
      "training 34.55%: 0.664. Loss: 1.4873669147491455\n",
      "training 35.19%: 0.664. Loss: 1.2712955474853516\n",
      "training 35.83%: 0.663. Loss: 1.3100024461746216\n",
      "training 36.47%: 0.663. Loss: 1.3930250406265259\n",
      "training 37.11%: 0.663. Loss: 1.4878286123275757\n",
      "training 37.75%: 0.662. Loss: 1.5861923694610596\n",
      "training 38.39%: 0.662. Loss: 1.3476953506469727\n",
      "training 39.03%: 0.661. Loss: 1.4732637405395508\n",
      "training 39.67%: 0.661. Loss: 1.3925507068634033\n",
      "training 40.31%: 0.661. Loss: 1.3388848304748535\n",
      "training 40.95%: 0.661. Loss: 1.2049354314804077\n",
      "training 41.59%: 0.660. Loss: 1.3307604789733887\n",
      "training 42.23%: 0.660. Loss: 1.4761769771575928\n",
      "training 42.87%: 0.660. Loss: 1.3827064037322998\n",
      "training 43.51%: 0.660. Loss: 1.6271333694458008\n",
      "training 44.15%: 0.659. Loss: 1.1839714050292969\n",
      "training 44.79%: 0.659. Loss: 1.3339424133300781\n",
      "training 45.43%: 0.659. Loss: 1.2044209241867065\n",
      "training 46.07%: 0.658. Loss: 1.593114972114563\n",
      "training 46.71%: 0.659. Loss: 1.3471320867538452\n",
      "training 47.34%: 0.658. Loss: 1.2690260410308838\n",
      "training 47.98%: 0.658. Loss: 0.9775583148002625\n",
      "training 48.62%: 0.658. Loss: 1.2539039850234985\n",
      "training 49.26%: 0.658. Loss: 1.5195509195327759\n",
      "training 49.90%: 0.658. Loss: 1.592086672782898\n",
      "training 50.54%: 0.658. Loss: 1.0844485759735107\n",
      "training 51.18%: 0.658. Loss: 1.445094108581543\n",
      "training 51.82%: 0.658. Loss: 1.4060546159744263\n",
      "training 52.46%: 0.658. Loss: 1.1899164915084839\n",
      "training 53.10%: 0.658. Loss: 0.9387822151184082\n",
      "training 53.74%: 0.657. Loss: 1.2514090538024902\n",
      "training 54.38%: 0.658. Loss: 1.5809521675109863\n",
      "training 55.02%: 0.658. Loss: 1.2584638595581055\n",
      "training 55.66%: 0.657. Loss: 1.4297699928283691\n",
      "training 56.30%: 0.657. Loss: 1.1378495693206787\n",
      "training 56.94%: 0.657. Loss: 1.346423864364624\n",
      "training 57.58%: 0.657. Loss: 1.1471468210220337\n",
      "training 58.22%: 0.657. Loss: 1.5244526863098145\n",
      "training 58.86%: 0.657. Loss: 1.2843185663223267\n",
      "training 59.50%: 0.657. Loss: 1.5421596765518188\n",
      "training 60.14%: 0.657. Loss: 1.412389874458313\n",
      "training 60.78%: 0.656. Loss: 1.4606355428695679\n",
      "training 61.42%: 0.656. Loss: 1.4838305711746216\n",
      "training 62.06%: 0.656. Loss: 1.3252310752868652\n",
      "training 62.70%: 0.656. Loss: 1.2480252981185913\n",
      "training 63.34%: 0.656. Loss: 1.4647103548049927\n",
      "training 63.98%: 0.656. Loss: 1.4026128053665161\n",
      "training 64.62%: 0.656. Loss: 1.4429863691329956\n",
      "training 65.26%: 0.656. Loss: 1.4225623607635498\n",
      "training 65.90%: 0.656. Loss: 1.2697060108184814\n",
      "training 66.54%: 0.656. Loss: 1.218936562538147\n",
      "training 67.18%: 0.656. Loss: 1.218453049659729\n",
      "training 67.82%: 0.655. Loss: 1.3956857919692993\n",
      "training 68.46%: 0.655. Loss: 1.6132289171218872\n",
      "training 69.10%: 0.655. Loss: 1.3446711301803589\n",
      "training 69.74%: 0.655. Loss: 1.2739346027374268\n",
      "training 70.38%: 0.655. Loss: 1.0602954626083374\n",
      "training 71.02%: 0.655. Loss: 1.406569242477417\n",
      "training 71.66%: 0.655. Loss: 1.4821592569351196\n",
      "training 72.30%: 0.655. Loss: 1.5408344268798828\n",
      "training 72.94%: 0.655. Loss: 1.1357187032699585\n",
      "training 73.58%: 0.655. Loss: 1.4133477210998535\n",
      "training 74.22%: 0.655. Loss: 1.3195618391036987\n",
      "training 74.86%: 0.655. Loss: 1.5879088640213013\n",
      "training 75.50%: 0.654. Loss: 1.384860634803772\n",
      "training 76.14%: 0.654. Loss: 1.3258624076843262\n",
      "training 76.78%: 0.654. Loss: 1.2640275955200195\n",
      "training 77.42%: 0.654. Loss: 1.2818950414657593\n",
      "training 78.06%: 0.654. Loss: 1.501906156539917\n",
      "training 78.69%: 0.654. Loss: 1.5700174570083618\n",
      "training 79.33%: 0.654. Loss: 1.2950646877288818\n",
      "training 79.97%: 0.654. Loss: 1.371150255203247\n",
      "training 80.61%: 0.654. Loss: 1.0821601152420044\n",
      "training 81.25%: 0.653. Loss: 1.273194432258606\n",
      "training 81.89%: 0.653. Loss: 1.3596400022506714\n",
      "training 82.53%: 0.653. Loss: 1.841314673423767\n",
      "training 83.17%: 0.653. Loss: 1.3835909366607666\n",
      "training 83.81%: 0.652. Loss: 1.448926568031311\n",
      "training 84.45%: 0.652. Loss: 1.4582184553146362\n",
      "training 85.09%: 0.652. Loss: 1.5611011981964111\n",
      "training 85.73%: 0.652. Loss: 1.5394442081451416\n",
      "training 86.37%: 0.652. Loss: 1.6004523038864136\n",
      "training 87.01%: 0.652. Loss: 1.1925197839736938\n",
      "training 87.65%: 0.652. Loss: 1.4889882802963257\n",
      "training 88.29%: 0.652. Loss: 1.2881425619125366\n",
      "training 88.93%: 0.652. Loss: 1.6434985399246216\n",
      "training 89.57%: 0.652. Loss: 1.2672185897827148\n",
      "training 90.21%: 0.652. Loss: 1.2974227666854858\n",
      "training 90.85%: 0.652. Loss: 1.3970648050308228\n"
     ]
    }
   ],
   "source": [
    "num_epochs = 5\n",
    "lr = 1e-3\n",
    "\n",
    "model.to(device)\n",
    "optim = torch.optim.Adam(model.parameters(), lr=lr)\n",
    "scheduler = torch.optim.lr_scheduler.MultiplicativeLR(optim, lr_lambda=lambda epoch: 0.9)\n",
    "criterion = nn.CrossEntropyLoss()\n",
    "\n",
    "train_losses = []\n",
    "val_losses = []\n",
    "\n",
    "for i in range(num_epochs):\n",
    "    model.train()\n",
    "    train_total, train_correct = 0,0\n",
    "    for idx, (inputs, targets) in enumerate(train_loader):\n",
    "        \n",
    "        inputs, targets = inputs.to(device), targets.to(device)\n",
    "        optim.zero_grad()\n",
    "        outputs = model(inputs)\n",
    "        loss = criterion(outputs, targets)\n",
    "        train_losses.append(loss.item())\n",
    "        \n",
    "        loss.backward()\n",
    "        optim.step()\n",
    "        _, predicted = outputs.max(1)\n",
    "        train_total += targets.size(0)\n",
    "        train_correct += predicted.eq(targets).sum().item()\n",
    "        if idx % 10 ==0:\n",
    "            print(f'training {100 * idx / len(train_loader):.2f}%: {train_correct / train_total:.3f}. Loss: {loss.item()}')\n",
    "    \n",
    "    torch.save({\n",
    "        'net': model.state_dict(),\n",
    "    }, 'latest.pt')\n",
    "    \n",
    "    model.eval()\n",
    "    with torch.no_grad():\n",
    "        val_loss_epoch = 0\n",
    "        val_total, val_correct = 0,0\n",
    "        for idx, (inputs, targets) in enumerate(val_loader):\n",
    "            inputs, targets = inputs.to(device), targets.to(device)\n",
    "            outputs = model(inputs)\n",
    "            loss = criterion(outputs, targets)\n",
    "            val_loss_epoch += loss.item()\n",
    "\n",
    "            _, predicted = outputs.max(1)\n",
    "            val_total += targets.size(0)\n",
    "            val_correct += predicted.eq(targets).sum().item()\n",
    "            if idx % 10 ==0:\n",
    "                print(f'val {100 * idx / len(val_loader):.2f}%: {val_correct / val_total:.3f}. Loss: {loss.item()}')\n",
    "            \n",
    "    val_losses.append(val_loss_epoch)\n",
    "    scheduler.step()"
   ]
  },
  {
   "cell_type": "code",
   "execution_count": 104,
   "metadata": {},
   "outputs": [
    {
     "data": {
      "text/plain": [
       "[<matplotlib.lines.Line2D at 0x16212e271c0>]"
      ]
     },
     "execution_count": 104,
     "metadata": {},
     "output_type": "execute_result"
    },
    {
     "data": {
      "image/png": "[encoded data removed]",
      "text/plain": [
       "<Figure size 432x288 with 1 Axes>"
      ]
     },
     "metadata": {
      "needs_background": "light"
     },
     "output_type": "display_data"
    }
   ],
   "source": [
    "plt.plot(train_losses)"
   ]
  },
  {
   "cell_type": "code",
   "execution_count": 105,
   "metadata": {},
   "outputs": [
    {
     "data": {
      "text/plain": [
       "[<matplotlib.lines.Line2D at 0x1624bf76ac0>]"
      ]
     },
     "execution_count": 105,
     "metadata": {},
     "output_type": "execute_result"
    },
    {
     "data": {
      "image/png": "[encoded data removed]",
      "text/plain": [
       "<Figure size 432x288 with 1 Axes>"
      ]
     },
     "metadata": {
      "needs_background": "light"
     },
     "output_type": "display_data"
    }
   ],
   "source": [
    "plt.plot(val_losses)"
   ]
  },
  {
   "cell_type": "code",
   "execution_count": null,
   "metadata": {},
   "outputs": [],
   "source": []
  }
 ],
 "metadata": {
  "kernelspec": {
   "display_name": "Python 3",
   "language": "python",
   "name": "python3"
  },
  "language_info": {
   "codemirror_mode": {
    "name": "ipython",
    "version": 3
   },
   "file_extension": ".py",
   "mimetype": "text/x-python",
   "name": "python",
   "nbconvert_exporter": "python",
   "pygments_lexer": "ipython3",
   "version": "3.8.5"
  }
 },
 "nbformat": 4,
 "nbformat_minor": 4
}
